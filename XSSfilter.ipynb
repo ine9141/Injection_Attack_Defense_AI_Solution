{
 "cells": [
  {
   "cell_type": "code",
   "execution_count": 22,
   "id": "0bebf088-b03c-4f6a-b071-8bbc15089b27",
   "metadata": {},
   "outputs": [],
   "source": [
    "import numpy as np\n",
    "import pandas as pd\n",
    "import matplotlib.pyplot as plt\n",
    "import urllib.request\n",
    "from sklearn.model_selection import train_test_split\n",
    "from tensorflow.keras.preprocessing.text import Tokenizer\n",
    "from tensorflow.keras.preprocessing.sequence import pad_sequences\n",
    "import keras\n",
    "from keras.models import load_model"
   ]
  },
  {
   "cell_type": "code",
   "execution_count": 2,
   "id": "635ef82e-8e8a-4fcf-ab44-3df6a529f508",
   "metadata": {},
   "outputs": [
    {
     "name": "stdout",
     "output_type": "stream",
     "text": [
      "총 샘 플 의 수 : 206636\n"
     ]
    },
    {
     "data": {
      "text/html": [
       "<div>\n",
       "<style scoped>\n",
       "    .dataframe tbody tr th:only-of-type {\n",
       "        vertical-align: middle;\n",
       "    }\n",
       "\n",
       "    .dataframe tbody tr th {\n",
       "        vertical-align: top;\n",
       "    }\n",
       "\n",
       "    .dataframe thead th {\n",
       "        text-align: right;\n",
       "    }\n",
       "</style>\n",
       "<table border=\"1\" class=\"dataframe\">\n",
       "  <thead>\n",
       "    <tr style=\"text-align: right;\">\n",
       "      <th></th>\n",
       "      <th>Sentence</th>\n",
       "      <th>SQLInjection</th>\n",
       "      <th>XSS</th>\n",
       "      <th>CommandInjection</th>\n",
       "      <th>Normal</th>\n",
       "    </tr>\n",
       "  </thead>\n",
       "  <tbody>\n",
       "    <tr>\n",
       "      <th>0</th>\n",
       "      <td>\" or pg_sleep ( __TIME__ ) --</td>\n",
       "      <td>1.0</td>\n",
       "      <td>0.0</td>\n",
       "      <td>0.0</td>\n",
       "      <td>0.0</td>\n",
       "    </tr>\n",
       "    <tr>\n",
       "      <th>1</th>\n",
       "      <td>create user name identified by pass123 tempora...</td>\n",
       "      <td>1.0</td>\n",
       "      <td>0.0</td>\n",
       "      <td>0.0</td>\n",
       "      <td>0.0</td>\n",
       "    </tr>\n",
       "    <tr>\n",
       "      <th>2</th>\n",
       "      <td>%29</td>\n",
       "      <td>1.0</td>\n",
       "      <td>0.0</td>\n",
       "      <td>0.0</td>\n",
       "      <td>0.0</td>\n",
       "    </tr>\n",
       "    <tr>\n",
       "      <th>3</th>\n",
       "      <td>' AND 1 = utl_inaddr.get_host_address  (  (  S...</td>\n",
       "      <td>1.0</td>\n",
       "      <td>0.0</td>\n",
       "      <td>0.0</td>\n",
       "      <td>0.0</td>\n",
       "    </tr>\n",
       "    <tr>\n",
       "      <th>4</th>\n",
       "      <td>select * from users where id = '1' or @ @1 = ...</td>\n",
       "      <td>1.0</td>\n",
       "      <td>0.0</td>\n",
       "      <td>0.0</td>\n",
       "      <td>0.0</td>\n",
       "    </tr>\n",
       "  </tbody>\n",
       "</table>\n",
       "</div>"
      ],
      "text/plain": [
       "                                            Sentence  SQLInjection  XSS  \\\n",
       "0                      \" or pg_sleep ( __TIME__ ) --           1.0  0.0   \n",
       "1  create user name identified by pass123 tempora...           1.0  0.0   \n",
       "2                                                %29           1.0  0.0   \n",
       "3  ' AND 1 = utl_inaddr.get_host_address  (  (  S...           1.0  0.0   \n",
       "4   select * from users where id = '1' or @ @1 = ...           1.0  0.0   \n",
       "\n",
       "   CommandInjection  Normal  \n",
       "0               0.0     0.0  \n",
       "1               0.0     0.0  \n",
       "2               0.0     0.0  \n",
       "3               0.0     0.0  \n",
       "4               0.0     0.0  "
      ]
     },
     "execution_count": 2,
     "metadata": {},
     "output_type": "execute_result"
    }
   ],
   "source": [
    "data = pd.read_csv('SQLInjection_XSS_CommandInjection_MixDataset.1.0.0.csv')\n",
    "print('총 샘 플 의 수 :',len(data))\n",
    "data[:5]"
   ]
  },
  {
   "cell_type": "code",
   "execution_count": 3,
   "id": "a824acab-31f5-4df5-b6d5-0409f8403680",
   "metadata": {},
   "outputs": [
    {
     "name": "stdout",
     "output_type": "stream",
     "text": [
      "총 샘 플 의 수 : 99320\n"
     ]
    },
    {
     "data": {
      "text/html": [
       "<div>\n",
       "<style scoped>\n",
       "    .dataframe tbody tr th:only-of-type {\n",
       "        vertical-align: middle;\n",
       "    }\n",
       "\n",
       "    .dataframe tbody tr th {\n",
       "        vertical-align: top;\n",
       "    }\n",
       "\n",
       "    .dataframe thead th {\n",
       "        text-align: right;\n",
       "    }\n",
       "</style>\n",
       "<table border=\"1\" class=\"dataframe\">\n",
       "  <thead>\n",
       "    <tr style=\"text-align: right;\">\n",
       "      <th></th>\n",
       "      <th>Sentence</th>\n",
       "      <th>XSS</th>\n",
       "    </tr>\n",
       "  </thead>\n",
       "  <tbody>\n",
       "    <tr>\n",
       "      <th>57308</th>\n",
       "      <td>One of the other reviewers has mentioned that ...</td>\n",
       "      <td>0.0</td>\n",
       "    </tr>\n",
       "    <tr>\n",
       "      <th>57309</th>\n",
       "      <td>A wonderful little production. &lt;br /&gt;&lt;br /&gt;The...</td>\n",
       "      <td>0.0</td>\n",
       "    </tr>\n",
       "    <tr>\n",
       "      <th>57310</th>\n",
       "      <td>I thought this was a wonderful way to spend ti...</td>\n",
       "      <td>0.0</td>\n",
       "    </tr>\n",
       "    <tr>\n",
       "      <th>57311</th>\n",
       "      <td>Basically there's a family where a little boy ...</td>\n",
       "      <td>0.0</td>\n",
       "    </tr>\n",
       "    <tr>\n",
       "      <th>57312</th>\n",
       "      <td>Petter Mattei's \"Love in the Time of Money\" is...</td>\n",
       "      <td>0.0</td>\n",
       "    </tr>\n",
       "  </tbody>\n",
       "</table>\n",
       "</div>"
      ],
      "text/plain": [
       "                                                Sentence  XSS\n",
       "57308  One of the other reviewers has mentioned that ...  0.0\n",
       "57309  A wonderful little production. <br /><br />The...  0.0\n",
       "57310  I thought this was a wonderful way to spend ti...  0.0\n",
       "57311  Basically there's a family where a little boy ...  0.0\n",
       "57312  Petter Mattei's \"Love in the Time of Money\" is...  0.0"
      ]
     },
     "execution_count": 3,
     "metadata": {},
     "output_type": "execute_result"
    }
   ],
   "source": [
    "data = data[(data['XSS'] == 1) | (data['Normal'] == 1)]\n",
    "del data['SQLInjection']\n",
    "del data['CommandInjection']\n",
    "del data['Normal']\n",
    "print('총 샘 플 의 수 :',len(data))\n",
    "data[:5]"
   ]
  },
  {
   "cell_type": "code",
   "execution_count": 4,
   "id": "777c628c-e75f-4899-b5a5-c7b2f35bac58",
   "metadata": {},
   "outputs": [
    {
     "data": {
      "text/plain": [
       "<Axes: xlabel='XSS'>"
      ]
     },
     "execution_count": 4,
     "metadata": {},
     "output_type": "execute_result"
    },
    {
     "data": {
      "image/png": "[encoded data removed]",
      "text/plain": [
       "<Figure size 640x480 with 1 Axes>"
      ]
     },
     "metadata": {},
     "output_type": "display_data"
    }
   ],
   "source": [
    "data['XSS'].value_counts().plot(kind='bar')"
   ]
  },
  {
   "cell_type": "code",
   "execution_count": 5,
   "id": "630252d4-60a7-46e8-95fe-6ef851af18ab",
   "metadata": {},
   "outputs": [],
   "source": [
    "X_data = data['Sentence']\n",
    "y_data = data['XSS']\n",
    "X_train, X_test, y_train, y_test = train_test_split(X_data, y_data, test_size=0.2, random_state=0, stratify=y_data)"
   ]
  },
  {
   "cell_type": "code",
   "execution_count": 6,
   "id": "680fba1c-db19-4bfb-a1e8-b1e5c601505d",
   "metadata": {},
   "outputs": [
    {
     "name": "stdout",
     "output_type": "stream",
     "text": [
      "--------훈 련 데 이 터 의 비 율 -----------\n",
      "정상 쿼리 = 58.922%\n",
      "공격 쿼리 = 41.078%\n",
      "--------테 스 트 데 이 터 의 비 율 -----------\n",
      "정상 쿼리 = 58.921%\n",
      "공격 쿼리 = 41.079%\n"
     ]
    }
   ],
   "source": [
    "print('--------훈 련 데 이 터 의 비 율 -----------')\n",
    "print(f'정상 쿼리 = {round(y_train.value_counts()[0]/len(y_train) * 100,3)}%')\n",
    "print(f'공격 쿼리 = {round(y_train.value_counts()[1]/len(y_train) * 100,3)}%')\n",
    "print('--------테 스 트 데 이 터 의 비 율 -----------')\n",
    "print(f'정상 쿼리 = {round(y_test.value_counts()[0]/len(y_test) * 100,3)}%')\n",
    "print(f'공격 쿼리 = {round(y_test.value_counts()[1]/len(y_test) * 100,3)}%')"
   ]
  },
  {
   "cell_type": "code",
   "execution_count": 7,
   "id": "89dc3eee-f411-4f0c-a5b8-a1f11a767265",
   "metadata": {},
   "outputs": [],
   "source": [
    "from nltk.tokenize import WordPunctTokenizer\n",
    "from collections import Counter\n",
    "\n",
    "tokenizer = WordPunctTokenizer()\n",
    "X_train_tokens = [tokenizer.tokenize(sentence) for sentence in X_train]\n",
    "all_tokens = [token.lower() for tokens_in_sentence in X_train_tokens for token in tokens_in_sentence]\n",
    "word_counts = Counter(all_tokens)\n",
    "word_to_index = {word: idx + 1 for idx, (word, _) in enumerate(word_counts.most_common())}\n",
    "X_train_encoded = [[word_to_index[token.lower()] for token in tokens] for tokens in X_train_tokens]"
   ]
  },
  {
   "cell_type": "code",
   "execution_count": 8,
   "id": "ff416c24-1263-4b26-bdbd-498af419a0e9",
   "metadata": {},
   "outputs": [
    {
     "name": "stdout",
     "output_type": "stream",
     "text": [
      "단 어 집 합 의 크 기: 107035\n"
     ]
    }
   ],
   "source": [
    "vocab_size = len(word_to_index) + 1\n",
    "print('단 어 집 합 의 크 기: {}'.format((vocab_size)))"
   ]
  },
  {
   "cell_type": "code",
   "execution_count": 28,
   "id": "09bc3c4c-893f-4b1c-b7ef-65bac0a3968a",
   "metadata": {},
   "outputs": [],
   "source": [
    "import pickle\n",
    "with open('xss_index.pkl','wb') as f:\n",
    "    pickle.dump(word_to_index,f)"
   ]
  },
  {
   "cell_type": "code",
   "execution_count": 9,
   "id": "ff9ab0b9-3b15-4e43-8ff5-d14e24d47ab1",
   "metadata": {},
   "outputs": [
    {
     "name": "stdout",
     "output_type": "stream",
     "text": [
      "쿼리의  최대 길이 : 2588\n",
      "쿼리의  평균 길이 : 67.994966\n"
     ]
    },
    {
     "data": {
      "image/png": "[encoded data removed]",
      "text/plain": [
       "<Figure size 640x480 with 1 Axes>"
      ]
     },
     "metadata": {},
     "output_type": "display_data"
    }
   ],
   "source": [
    "print('쿼리의  최대 길이 : %d' % max(len(sample) for sample in X_train_encoded))\n",
    "print('쿼리의  평균 길이 : %f' % (sum(map(len, X_train_encoded))/len(X_train_encoded)))\n",
    "plt.hist([len(sample) for sample in X_data], bins=50)\n",
    "plt.xlabel('length of samples')\n",
    "plt.ylabel('number of samples')\n",
    "plt.show()\n"
   ]
  },
  {
   "cell_type": "code",
   "execution_count": 10,
   "id": "4ce23fe1-2cb5-40db-90e6-382e70eece14",
   "metadata": {},
   "outputs": [
    {
     "name": "stdout",
     "output_type": "stream",
     "text": [
      "훈련 데이터의 크기(shape): (79456, 114)\n"
     ]
    }
   ],
   "source": [
    "max_len = 114\n",
    "X_train_padded = pad_sequences(X_train_encoded, maxlen = max_len)\n",
    "print(\"훈련 데이터의 크기(shape):\", X_train_padded.shape)"
   ]
  },
  {
   "cell_type": "code",
   "execution_count": 11,
   "id": "6fd54e36-33fb-44a7-b762-335233903bcb",
   "metadata": {},
   "outputs": [
    {
     "name": "stdout",
     "output_type": "stream",
     "text": [
      "Epoch 1/4\n",
      "\u001b[1m994/994\u001b[0m \u001b[32m━━━━━━━━━━━━━━━━━━━━\u001b[0m\u001b[37m\u001b[0m \u001b[1m13s\u001b[0m 12ms/step - acc: 0.9684 - loss: 0.1016 - val_acc: 0.9989 - val_loss: 0.0055\n",
      "Epoch 2/4\n",
      "\u001b[1m994/994\u001b[0m \u001b[32m━━━━━━━━━━━━━━━━━━━━\u001b[0m\u001b[37m\u001b[0m \u001b[1m12s\u001b[0m 12ms/step - acc: 0.9987 - loss: 0.0053 - val_acc: 0.9991 - val_loss: 0.0042\n",
      "Epoch 3/4\n",
      "\u001b[1m994/994\u001b[0m \u001b[32m━━━━━━━━━━━━━━━━━━━━\u001b[0m\u001b[37m\u001b[0m \u001b[1m12s\u001b[0m 12ms/step - acc: 0.9995 - loss: 0.0030 - val_acc: 0.9992 - val_loss: 0.0034\n",
      "Epoch 4/4\n",
      "\u001b[1m994/994\u001b[0m \u001b[32m━━━━━━━━━━━━━━━━━━━━\u001b[0m\u001b[37m\u001b[0m \u001b[1m12s\u001b[0m 12ms/step - acc: 0.9995 - loss: 0.0028 - val_acc: 0.9992 - val_loss: 0.0027\n"
     ]
    }
   ],
   "source": [
    "from tensorflow.keras.layers import SimpleRNN, Embedding, Dense\n",
    "from tensorflow.keras.models import Sequential\n",
    "import tensorflow as tf\n",
    "\n",
    "embedding_dim = 32\n",
    "hidden_units = 32\n",
    "model = Sequential()\n",
    "model.add(Embedding(vocab_size, embedding_dim))\n",
    "model.add(SimpleRNN(hidden_units))\n",
    "model.add(Dense(1, activation='sigmoid'))\n",
    "model.compile(optimizer='rmsprop', loss='binary_crossentropy', metrics=['acc'])\n",
    "y_train = y_train.astype('int32')\n",
    "history = model.fit(X_train_padded, y_train, epochs=4, batch_size=64, validation_split=0.2)"
   ]
  },
  {
   "cell_type": "code",
   "execution_count": 12,
   "id": "1a09bed7-89fc-4308-b22f-0b4788c5865e",
   "metadata": {},
   "outputs": [
    {
     "name": "stdout",
     "output_type": "stream",
     "text": [
      "\u001b[1m621/621\u001b[0m \u001b[32m━━━━━━━━━━━━━━━━━━━━\u001b[0m\u001b[37m\u001b[0m \u001b[1m2s\u001b[0m 3ms/step - acc: 0.9991 - loss: 0.0045\n",
      "\n",
      " 테 스 트 정 확 도: 0.9992\n"
     ]
    }
   ],
   "source": [
    "X_test_tokens = [tokenizer.tokenize(sentence.lower()) for sentence in X_test]\n",
    "X_test_encoded = [[word_to_index.get(token, 0) for token in tokens] for tokens in X_test_tokens]\n",
    "X_test_padded = pad_sequences(X_test_encoded, maxlen = max_len)\n",
    "\n",
    "y_test = y_test.astype('int32')\n",
    "print(\"\\n 테 스 트 정 확 도: %.4f\" % (model.evaluate(X_test_padded, y_test)[1]))"
   ]
  },
  {
   "cell_type": "code",
   "execution_count": 13,
   "id": "cbc10c8e-7a95-41a5-9566-258b16cd8c5e",
   "metadata": {},
   "outputs": [
    {
     "data": {
      "image/png": "[encoded data removed]",
      "text/plain": [
       "<Figure size 640x480 with 1 Axes>"
      ]
     },
     "metadata": {},
     "output_type": "display_data"
    }
   ],
   "source": [
    "epochs = range(1, len(history.history['acc']) + 1)\n",
    "plt.plot(epochs, history.history['loss'])\n",
    "plt.plot(epochs, history.history['val_loss'])\n",
    "plt.title('model loss')\n",
    "plt.ylabel('loss')\n",
    "plt.xlabel('epoch')\n",
    "plt.legend(['train', 'val'], loc='upper left')\n",
    "plt.show()"
   ]
  },
  {
   "cell_type": "code",
   "execution_count": 17,
   "id": "3d8d04fd-4bf2-4397-9cfa-cc4bcce36cce",
   "metadata": {},
   "outputs": [],
   "source": [
    "keras.saving.save_model(model, 'xss_model.keras')"
   ]
  },
  {
   "cell_type": "code",
   "execution_count": 23,
   "id": "eae3d0ce-9ece-46df-861a-1abd55d1f831",
   "metadata": {},
   "outputs": [],
   "source": [
    "model = load_model('xss_model.keras')"
   ]
  },
  {
   "cell_type": "code",
   "execution_count": 33,
   "id": "aeb063d1-4db6-4a5a-9bba-160a66fc6173",
   "metadata": {},
   "outputs": [
    {
     "name": "stdout",
     "output_type": "stream",
     "text": [
      "\u001b[1m1/1\u001b[0m \u001b[32m━━━━━━━━━━━━━━━━━━━━\u001b[0m\u001b[37m\u001b[0m \u001b[1m0s\u001b[0m 14ms/step\n",
      "89.43% 확률로 XSS 공격입니다.\n"
     ]
    }
   ],
   "source": [
    "def sentiment_predict(new_sentence):\n",
    "    encoded = [[word_to_index.get(token, 0) for token in tokenizer.tokenize(new_sentence.lower())]]\n",
    "    padded = pad_sequences(encoded, maxlen=max_len)\n",
    "    score = float(model.predict(padded))\n",
    "    \n",
    "    if score > 0.5:\n",
    "        print(\"{:.2f}% 확률로 XSS 공격입니다.\".format(score * 100))\n",
    "        model.fit(padded, pd.Series([1]), epochs=1, verbose=0)\n",
    "    else:\n",
    "        print(\"{:.2f}% 확률로 일반 문장입니다.\".format((1 - score) * 100))\n",
    "\n",
    "sentiment_predict(\"0cwMHIOrGPcyqzGTMT2O aGM1find / -maxdepth 1 -xdev -type f  -exec grep -li stringtofind '{}' \\;icvB1nZ\")\n"
   ]
  },
  {
   "cell_type": "code",
   "execution_count": null,
   "id": "767f0b4b-b37e-45b5-a89e-172b7e0759cf",
   "metadata": {},
   "outputs": [],
   "source": []
  },
  {
   "cell_type": "code",
   "execution_count": null,
   "id": "cf51abd2-f8ec-4eca-a35c-44f561a29018",
   "metadata": {},
   "outputs": [],
   "source": []
  }
 ],
 "metadata": {
  "kernelspec": {
   "display_name": "Python 3 (ipykernel)",
   "language": "python",
   "name": "python3"
  },
  "language_info": {
   "codemirror_mode": {
    "name": "ipython",
    "version": 3
   },
   "file_extension": ".py",
   "mimetype": "text/x-python",
   "name": "python",
   "nbconvert_exporter": "python",
   "pygments_lexer": "ipython3",
   "version": "3.11.5"
  }
 },
 "nbformat": 4,
 "nbformat_minor": 5
}
